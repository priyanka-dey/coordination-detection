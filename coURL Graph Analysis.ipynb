{
 "cells": [
  {
   "cell_type": "markdown",
   "id": "d528da83",
   "metadata": {},
   "source": [
    "In this notebook, we replicate some previous network coordination detection algorithms using coURLs. We generate networks graphs for each engagement type and then compute node centralities using eigenvalues. We then build cdf plots to determine a threshold value for coordinated activity. Finally, we do some basic qualitative analysis to better understand idealogies, opinions, etc."
   ]
  },
  {
   "cell_type": "code",
   "execution_count": 103,
   "id": "6f8556b5",
   "metadata": {},
   "outputs": [],
   "source": [
    "import pandas as pd"
   ]
  },
  {
   "cell_type": "code",
   "execution_count": 104,
   "id": "c4b19481",
   "metadata": {},
   "outputs": [],
   "source": [
    "import warnings\n",
    "warnings.filterwarnings('ignore')"
   ]
  },
  {
   "cell_type": "code",
   "execution_count": null,
   "id": "885d060c",
   "metadata": {},
   "outputs": [],
   "source": [
    "import numpy as np\n",
    "import networkx as nx\n",
    "from datetime import datetime\n",
    "from datetime import timedelta"
   ]
  },
  {
   "cell_type": "code",
   "execution_count": null,
   "id": "db1b92e1",
   "metadata": {},
   "outputs": [],
   "source": [
    "import scipy\n",
    "import sklearn"
   ]
  },
  {
   "cell_type": "code",
   "execution_count": null,
   "id": "e3fb298f",
   "metadata": {},
   "outputs": [],
   "source": [
    "from sklearn.feature_extraction.text import TfidfTransformer\n",
    "from sklearn.metrics.pairwise import cosine_similarity "
   ]
  },
  {
   "cell_type": "code",
   "execution_count": 6,
   "id": "dd380549",
   "metadata": {},
   "outputs": [],
   "source": [
    "gaza_data = pd.read_csv(\"~/Downloads/gaza_data/challenge_problem_two_21NOV.csv\")"
   ]
  },
  {
   "cell_type": "code",
   "execution_count": 7,
   "id": "8cd34211",
   "metadata": {},
   "outputs": [],
   "source": [
    "retweet_data = gaza_data[gaza_data.tweet_type == 'retweet']"
   ]
  },
  {
   "cell_type": "code",
   "execution_count": 8,
   "id": "e8e6f78c",
   "metadata": {},
   "outputs": [
    {
     "data": {
      "text/plain": [
       "3147621"
      ]
     },
     "execution_count": 8,
     "metadata": {},
     "output_type": "execute_result"
    }
   ],
   "source": [
    "len(retweet_data)"
   ]
  },
  {
   "cell_type": "code",
   "execution_count": 9,
   "id": "b905ea97",
   "metadata": {},
   "outputs": [
    {
     "data": {
      "text/plain": [
       "Index(['created_at', 'follower_count', 'following_count', 'id', 'imageUrls',\n",
       "       'lang', 'like_count', 'linked_tweet', 'retweet_count', 'screen_name',\n",
       "       'text', 'tweet_type', 'urls'],\n",
       "      dtype='object')"
      ]
     },
     "execution_count": 9,
     "metadata": {},
     "output_type": "execute_result"
    }
   ],
   "source": [
    "retweet_data.columns"
   ]
  },
  {
   "cell_type": "code",
   "execution_count": 10,
   "id": "98f77aae",
   "metadata": {},
   "outputs": [],
   "source": [
    "def get_orig_author(row):\n",
    "    terms = row['text'].split()\n",
    "    for t in terms: \n",
    "        if t[0] == '@':\n",
    "            return str(t[1:])"
   ]
  },
  {
   "cell_type": "code",
   "execution_count": 15,
   "id": "0e69cdeb",
   "metadata": {},
   "outputs": [],
   "source": [
    "retweet_data['orig_author_screenname'] = retweet_data.apply(get_orig_author, axis=1)"
   ]
  },
  {
   "cell_type": "code",
   "execution_count": 16,
   "id": "ca8702a5",
   "metadata": {},
   "outputs": [
    {
     "data": {
      "text/plain": [
       "Index(['created_at', 'follower_count', 'following_count', 'id', 'imageUrls',\n",
       "       'lang', 'like_count', 'linked_tweet', 'retweet_count', 'screen_name',\n",
       "       'text', 'tweet_type', 'urls', 'orig_author_screenname', 'userid'],\n",
       "      dtype='object')"
      ]
     },
     "execution_count": 16,
     "metadata": {},
     "output_type": "execute_result"
    }
   ],
   "source": [
    "retweet_data.columns"
   ]
  },
  {
   "cell_type": "code",
   "execution_count": 17,
   "id": "e37f9714",
   "metadata": {},
   "outputs": [],
   "source": [
    "### coURL\n",
    "import pandas as pd\n",
    "import numpy as np\n",
    "import networkx as nx\n",
    "from sklearn.feature_extraction.text import TfidfTransformer\n",
    "from sklearn.metrics.pairwise import cosine_similarity\n",
    "from scipy.sparse import csr_matrix\n",
    "import ast\n",
    "\n",
    "# Data assumptions:\n",
    "#   - 2 Pandas dataframes\n",
    "#     - control: control dataset -> includes only columns ['user', 'entities', 'id']\n",
    "#     - treated: information Operation dataset -> includes only columns ['tweetid', 'userid', 'urls']\n",
    "\n",
    "def coURL(dataset):\n",
    "    dataset['userid'] = dataset['orig_author_screenname'].values\n",
    "\n",
    "    dataset = dataset[['userid', 'urls']]\n",
    "    dataset['urls'] = dataset['urls'].apply(ast.literal_eval)\n",
    "    dataset = dataset[['userid', 'urls']].explode('urls')\n",
    "    print(\"after explode: \", dataset.head())\n",
    "    print(\"finished here\")\n",
    "    dataset.dropna(inplace=True)\n",
    "    dataset['urls'] = dataset['urls'].apply(lambda x: str(x.replace(',', '.')) if x else np.NaN)\n",
    "    \n",
    "    dataset.drop_duplicates(inplace=True)\n",
    "    \n",
    "    print(\"finished drop dups\")\n",
    "\n",
    "    temp = dataset.groupby('urls', as_index=False).count()\n",
    "    print(\"tmp: \", temp)\n",
    "    cum = dataset.loc[dataset['urls'].isin(temp.loc[temp['userid']>1]['urls'].to_list())]\n",
    "    \n",
    "    print(\"got users with at least 1 url posts\")\n",
    "\n",
    "    print(cum.head())\n",
    "    cum['value'] = 1\n",
    "    urls = dict(zip(list(cum.urls.unique()), list(range(cum.urls.unique().shape[0]))))\n",
    "    cum['urls'] = cum['urls'].apply(lambda x: urls[x]).astype(int)\n",
    "    del urls\n",
    "    \n",
    "    print(\"converted urls to encoded versions\")\n",
    "\n",
    "    userid = dict(zip(list(cum.userid.astype(str).unique()), list(range(cum.userid.unique().shape[0]))))\n",
    "    cum['userid'] = cum['userid'].astype(str).apply(lambda x: userid[x]).astype(int)\n",
    "    \n",
    "    print(\"encoded user ids\")\n",
    "    \n",
    "    person_c = pd.CategoricalDtype(sorted(cum.userid.unique()), ordered=True)\n",
    "    thing_c = pd.CategoricalDtype(sorted(cum.urls.unique()), ordered=True)\n",
    "    \n",
    "    row = cum.userid.astype(person_c).cat.codes\n",
    "    col = cum.urls.astype(thing_c).cat.codes\n",
    "    sparse_matrix = csr_matrix((cum[\"value\"], (row, col)), shape=(person_c.categories.size, thing_c.categories.size))\n",
    "    del row, col, person_c, thing_c\n",
    "    \n",
    "    print(\"generated sparse matrix\")\n",
    "\n",
    "    #cum = pd.pivot_table(cum,'value', 'userid', 'urls', aggfunc='max')\n",
    "    #cum.fillna(0, inplace = True)\n",
    "    \n",
    "    vectorizer = TfidfTransformer()\n",
    "    tfidf_matrix = vectorizer.fit_transform(sparse_matrix)\n",
    "    similarities = cosine_similarity(tfidf_matrix, dense_output=False)\n",
    "    \n",
    "    print(\"generated tfidf mat and sim matrix\")\n",
    "\n",
    "\n",
    "    df_adj = pd.DataFrame(similarities.toarray())\n",
    "    del similarities\n",
    "    df_adj.index = userid.keys()\n",
    "    df_adj.columns = userid.keys()\n",
    "    G = nx.from_pandas_adjacency(df_adj)\n",
    "    del df_adj\n",
    "    \n",
    "    print(\"created the adjacency matrix\")\n",
    "    \n",
    "    G.remove_nodes_from(list(nx.isolates(G)))\n",
    "    G.remove_edges_from(nx.selfloop_edges(G))\n",
    "    print(\"removed self edges + no neighbor nodes\")\n",
    "    return G\n"
   ]
  },
  {
   "cell_type": "code",
   "execution_count": 14,
   "id": "ebc3f6fc",
   "metadata": {},
   "outputs": [
    {
     "name": "stdout",
     "output_type": "stream",
     "text": [
      "after explode:              userid                                               urls\n",
      "0        Palnews22  https://alkoofiya.net/2023/08/31/israeli-force...\n",
      "2       tomas_4040                                                NaN\n",
      "3          QudsNen                                                NaN\n",
      "4       tomas_4040                                                NaN\n",
      "5  HonestReporting  https://www.theguardian.com/world/2023/aug/31/...\n",
      "finished here\n",
      "finished drop dups\n",
      "tmp:                                                      urls  userid\n",
      "0      HTTPS://vimeo.com/873524616/5413f41c22?share=copy       1\n",
      "1      Https://i.diem25.org/en/events/3238-diem25-in-...       1\n",
      "2      Https://socialistworker.co.uk/international/us...       1\n",
      "3                             Https://t.me/AshwiniSahaya       1\n",
      "4      Https://twitter.com/canmericanized/status/1716...       1\n",
      "...                                                  ...     ...\n",
      "41055  https://zoa.org/2023/09/10448335-zoa-action-al...       1\n",
      "41056  https://zoa.org/2023/10/10448582-sickening-vid...       1\n",
      "41057  https://zoedaniel.com.au/2023/10/16/israel-and...       2\n",
      "41058  https://zoom.us/webinar/register/WN_7XcgEwXWQ5...       1\n",
      "41059  https://zoom.us/webinar/register/WN_hd-9XLAqRs...       1\n",
      "\n",
      "[41060 rows x 2 columns]\n",
      "got users with at least 1 url posts\n",
      "             userid                                               urls\n",
      "6       DrSakriKaia  https://www.972mag.com/area-c-ethnic-cleansing...\n",
      "7     SoHebronWatch  https://www.972mag.com/area-c-ethnic-cleansing...\n",
      "48     swilkinsonbc  https://www.middleeasteye.net/news/gross-viola...\n",
      "86    V_Palestine20  https://www.middleeasteye.net/news/gross-viola...\n",
      "112  r2001palestine  https://www.middleeasteye.net/news/gross-viola...\n",
      "converted urls to encoded versions\n",
      "encoded user ids\n",
      "generated sparse matrix\n",
      "generated tfidf mat and sim matrix\n",
      "created the adjacency matrix\n",
      "removed self edges + no neighbor nodes\n"
     ]
    }
   ],
   "source": [
    "G = coURL(retweet_data)"
   ]
  },
  {
   "cell_type": "code",
   "execution_count": 19,
   "id": "3f611f32",
   "metadata": {},
   "outputs": [
    {
     "data": {
      "text/plain": [
       "[0.11597536514621186,\n",
       " 0.09588043559274194,\n",
       " 0.0945216884576676,\n",
       " 0.09238510276578774,\n",
       " 0.0918141600426164]"
      ]
     },
     "execution_count": 19,
     "metadata": {},
     "output_type": "execute_result"
    }
   ],
   "source": [
    "centrality = nx.eigenvector_centrality_numpy(G)\n",
    "values = [v for k, v in centrality.items()]\n",
    "idxs = np.argsort(values)\n",
    "users = [k for k, v in centrality.items()]\n",
    "values.sort()\n",
    "values.reverse()\n",
    "values[:5]"
   ]
  },
  {
   "cell_type": "code",
   "execution_count": 105,
   "id": "97a578d4",
   "metadata": {},
   "outputs": [
    {
     "data": {
      "text/plain": [
       "['Emilio2763', 'UsagikoNat', 'bennyjohnson', 'WRH_Mike_Rivero', 'redsteeze']"
      ]
     },
     "execution_count": 105,
     "metadata": {},
     "output_type": "execute_result"
    }
   ],
   "source": [
    "sorted_users = [users[i] for i in idxs]\n",
    "sorted_users.reverse()\n",
    "sorted_users[:5]"
   ]
  },
  {
   "cell_type": "code",
   "execution_count": 21,
   "id": "62d6b6f6",
   "metadata": {},
   "outputs": [
    {
     "data": {
      "text/plain": [
       "9193"
      ]
     },
     "execution_count": 21,
     "metadata": {},
     "output_type": "execute_result"
    }
   ],
   "source": [
    "len(values)"
   ]
  },
  {
   "cell_type": "code",
   "execution_count": 114,
   "id": "f35b1af3",
   "metadata": {},
   "outputs": [
    {
     "data": {
      "image/png": "[encoded data removed]",
      "text/plain": [
       "<Figure size 720x432 with 1 Axes>"
      ]
     },
     "metadata": {
      "needs_background": "light"
     },
     "output_type": "display_data"
    }
   ],
   "source": [
    "import matplotlib.pyplot as plt\n",
    "import numpy as np\n",
    "\n",
    "# Your node centralities\n",
    "centralities = values # Include the full list\n",
    "\n",
    "# Sort the centralities\n",
    "sorted_centralities = np.sort(centralities)\n",
    "\n",
    "# Calculate the cumulative distribution function (CDF)\n",
    "cdf = np.arange(1, len(sorted_centralities) + 1) / len(sorted_centralities)\n",
    "\n",
    "# Create a larger and nicer figure\n",
    "plt.figure(figsize=(10, 6))\n",
    "\n",
    "# Create the CDF plot with a thicker line in a lighter purple color\n",
    "plt.plot(sorted_centralities, cdf, label='CDF', marker='o', linewidth=3, color='#d8bfd8', linestyle='-')\n",
    "\n",
    "# Add labels and title with increased font size\n",
    "plt.xlabel('Node Centralities', fontsize=14)\n",
    "plt.ylabel('Cumulative Probability', fontsize=14)\n",
    "plt.title('Cumulative Distribution Function (CDF) of Node Centralities', fontsize=16)\n",
    "\n",
    "# Set grid, legend, and adjust tick font size\n",
    "plt.grid(True)\n",
    "plt.legend(fontsize=12)\n",
    "plt.xticks(fontsize=12)\n",
    "plt.yticks(fontsize=12)\n",
    "\n",
    "threshold_cdf = 0.995\n",
    "threshold_index = np.argmax(cdf >= threshold_cdf)\n",
    "threshold_centrality = sorted_centralities[threshold_index]\n",
    "plt.axvline(threshold_centrality, color='red', linestyle='--', label=f'CDF = {threshold_cdf}')\n",
    "\n",
    "# Add a vertical line when CDF reaches 0.7\n",
    "threshold_cdf = 0.9975\n",
    "threshold_index = np.argmax(cdf >= threshold_cdf)\n",
    "threshold_centrality = sorted_centralities[threshold_index]\n",
    "# plt.axvline(threshold_centrality, color='red', linestyle='--', label=f'CDF = {threshold_cdf}')\n",
    "\n",
    "\n",
    "# Show the plot\n",
    "plt.show()\n"
   ]
  },
  {
   "cell_type": "code",
   "execution_count": 112,
   "id": "1998cb33",
   "metadata": {},
   "outputs": [
    {
     "name": "stdout",
     "output_type": "stream",
     "text": [
      "Nodes with cumulative density values above 0.995: ['Aroba31', 'jaffry313', 'mzafar781036557', 'ash_inthehat', 'masoomarizvipk', 'SoCalBohoGal', 'shaharbanuu33', 'Heath_blahblah', 'coriinthes', 'caitecassidy', 'Ravinder_Pal3', 'SteveTh04941278', 'Meenat30', 'itratfatima72', 'investigatemag', 'goodauth', 'JustKimfromoz', 'lasersplitter', '_ayeli_', 'silascasinos', 'EimikoPosts', 'hydroglyphz', 'AndImTennisBall', 'AnilKum25570045', 'jenvanlaar', 'hijabzahraAli', 'HKX07', 'jeonnsdoII', 'Kenyans', 'stevept', 'mapleopinion', 'DavisYounts', 'BaldoOld', 'WebHeadOf616', 'WITHINSENTO', 'timxprice', 'mideastXmidwest', 'maverick7wrtin', 'lizard_scales', 'iamjoelee', 'maram0zm', 'MikhaelManekin', 'hxmza1', 'FIDDAUSI121', 'teachertabitha1', 'PeterKirstein']\n"
     ]
    }
   ],
   "source": [
    "def nodes_above_cdf_threshold(centralities, node_names, cdf_threshold):\n",
    "    \"\"\"\n",
    "    Returns a list of node names whose cumulative density values are above the given threshold.\n",
    "\n",
    "    Parameters:\n",
    "    - centralities (list): List of node centralities.\n",
    "    - node_names (list): List of corresponding node names.\n",
    "    - cdf_threshold (float): Cumulative density threshold value.\n",
    "\n",
    "    Returns:\n",
    "    - list: Nodes with cumulative density values above the threshold.\n",
    "    \"\"\"\n",
    "    sorted_indices = np.argsort(centralities)\n",
    "    sorted_cdf = np.cumsum(np.ones_like(centralities)) / len(centralities)\n",
    "#     print(sorted_cdf)\n",
    "    above_threshold_nodes = [node_names[i] for i in sorted_indices if sorted_cdf[i] > cdf_threshold]\n",
    "    return above_threshold_nodes\n",
    "\n",
    "# Example usage:\n",
    "centralities = values\n",
    "node_names = sorted_users\n",
    "cdf_threshold_value = 0.995\n",
    "\n",
    "above_cdf_threshold_nodes = nodes_above_cdf_threshold(centralities, node_names, cdf_threshold_value)\n",
    "print(f\"Nodes with cumulative density values above {cdf_threshold_value}: {above_cdf_threshold_nodes}\")\n"
   ]
  },
  {
   "cell_type": "code",
   "execution_count": 113,
   "id": "ba2144c4",
   "metadata": {},
   "outputs": [
    {
     "name": "stdout",
     "output_type": "stream",
     "text": [
      "Graph with 46 nodes and 40 edges\n"
     ]
    },
    {
     "data": {
      "image/png": "[encoded data removed]",
      "text/plain": [
       "<Figure size 1728x1728 with 1 Axes>"
      ]
     },
     "metadata": {},
     "output_type": "display_data"
    }
   ],
   "source": [
    "# users 0.9 threshold\n",
    "subgraph = G.subgraph(above_cdf_threshold_nodes)\n",
    "\n",
    "# Create a new graph with the subgraph\n",
    "new_G = nx.Graph(subgraph)\n",
    "print(new_G)\n",
    "\n",
    "import matplotlib.pyplot as plt\n",
    "# Define a layout for the graph (e.g., circular layout)\n",
    "layout = nx.spring_layout(new_G)\n",
    "\n",
    "plt.figure(figsize=(24,24)) \n",
    "\n",
    "\n",
    "# Draw the graph with labels\n",
    "nx.draw(new_G, pos=layout, with_labels=True, arrows=True, width=1.5, font_weight='bold', node_size=10, font_size=10, node_color='skyblue', edge_color='gray', linewidths=1, alpha=0.8)"
   ]
  },
  {
   "cell_type": "code",
   "execution_count": 44,
   "id": "23c274d5",
   "metadata": {},
   "outputs": [],
   "source": [
    "rel_users = retweet_data[retweet_data['orig_author_screenname'].isin(above_cdf_threshold_nodes)]"
   ]
  },
  {
   "cell_type": "code",
   "execution_count": 52,
   "id": "1f16bf0f",
   "metadata": {},
   "outputs": [],
   "source": [
    "c = rel_users.groupby(['urls', 'orig_author_screenname', 'screen_name']).size().reset_index(name='count').sort_values(\n",
    "    ['count'], ascending=False)"
   ]
  },
  {
   "cell_type": "code",
   "execution_count": 64,
   "id": "25df101e",
   "metadata": {},
   "outputs": [],
   "source": [
    "import ast\n",
    "c['urls'] = c.urls.apply(lambda x: ast.literal_eval(str(x)))"
   ]
  },
  {
   "cell_type": "code",
   "execution_count": 72,
   "id": "67036352",
   "metadata": {},
   "outputs": [],
   "source": [
    "c = c.explode('urls')\n",
    "c = c.dropna(subset=['urls'])"
   ]
  },
  {
   "cell_type": "code",
   "execution_count": 75,
   "id": "2ba9d093",
   "metadata": {},
   "outputs": [
    {
     "data": {
      "text/html": [
       "<div>\n",
       "<style scoped>\n",
       "    .dataframe tbody tr th:only-of-type {\n",
       "        vertical-align: middle;\n",
       "    }\n",
       "\n",
       "    .dataframe tbody tr th {\n",
       "        vertical-align: top;\n",
       "    }\n",
       "\n",
       "    .dataframe thead th {\n",
       "        text-align: right;\n",
       "    }\n",
       "</style>\n",
       "<table border=\"1\" class=\"dataframe\">\n",
       "  <thead>\n",
       "    <tr style=\"text-align: right;\">\n",
       "      <th></th>\n",
       "      <th>urls</th>\n",
       "      <th>orig_author_screenname</th>\n",
       "      <th>screen_name</th>\n",
       "      <th>count</th>\n",
       "    </tr>\n",
       "  </thead>\n",
       "  <tbody>\n",
       "    <tr>\n",
       "      <th>0</th>\n",
       "      <td>https://bnn.network/world/ukraine/hamas-acknow...</td>\n",
       "      <td>SoCalBohoGal</td>\n",
       "      <td>AlphaMatrix7</td>\n",
       "      <td>1</td>\n",
       "    </tr>\n",
       "    <tr>\n",
       "      <th>42</th>\n",
       "      <td>https://globalnation.inquirer.net/221651/envoy...</td>\n",
       "      <td>EimikoPosts</td>\n",
       "      <td>GenderNulltral</td>\n",
       "      <td>1</td>\n",
       "    </tr>\n",
       "    <tr>\n",
       "      <th>262</th>\n",
       "      <td>https://twitter.com/i/web/status/1712955551724...</td>\n",
       "      <td>Ravinder_Pal3</td>\n",
       "      <td>Raj66539072</td>\n",
       "      <td>1</td>\n",
       "    </tr>\n",
       "    <tr>\n",
       "      <th>263</th>\n",
       "      <td>https://www.change.org/p/sign-and-share-this-u...</td>\n",
       "      <td>hydroglyphz</td>\n",
       "      <td>BigotSandwichVP</td>\n",
       "      <td>1</td>\n",
       "    </tr>\n",
       "    <tr>\n",
       "      <th>264</th>\n",
       "      <td>https://www.change.org/p/sign-and-share-this-u...</td>\n",
       "      <td>ash_inthehat</td>\n",
       "      <td>MishirukuJunko</td>\n",
       "      <td>1</td>\n",
       "    </tr>\n",
       "    <tr>\n",
       "      <th>...</th>\n",
       "      <td>...</td>\n",
       "      <td>...</td>\n",
       "      <td>...</td>\n",
       "      <td>...</td>\n",
       "    </tr>\n",
       "    <tr>\n",
       "      <th>23</th>\n",
       "      <td>https://globalnation.inquirer.net/221651/envoy...</td>\n",
       "      <td>EimikoPosts</td>\n",
       "      <td>BLyRor30</td>\n",
       "      <td>1</td>\n",
       "    </tr>\n",
       "    <tr>\n",
       "      <th>24</th>\n",
       "      <td>https://globalnation.inquirer.net/221651/envoy...</td>\n",
       "      <td>EimikoPosts</td>\n",
       "      <td>BO180214</td>\n",
       "      <td>1</td>\n",
       "    </tr>\n",
       "    <tr>\n",
       "      <th>25</th>\n",
       "      <td>https://globalnation.inquirer.net/221651/envoy...</td>\n",
       "      <td>EimikoPosts</td>\n",
       "      <td>BaronKain002</td>\n",
       "      <td>1</td>\n",
       "    </tr>\n",
       "    <tr>\n",
       "      <th>26</th>\n",
       "      <td>https://globalnation.inquirer.net/221651/envoy...</td>\n",
       "      <td>EimikoPosts</td>\n",
       "      <td>Basiljpg7</td>\n",
       "      <td>1</td>\n",
       "    </tr>\n",
       "    <tr>\n",
       "      <th>1</th>\n",
       "      <td>https://bnn.network/world/ukraine/hamas-acknow...</td>\n",
       "      <td>SoCalBohoGal</td>\n",
       "      <td>KatHouston65</td>\n",
       "      <td>1</td>\n",
       "    </tr>\n",
       "  </tbody>\n",
       "</table>\n",
       "<p>289 rows × 4 columns</p>\n",
       "</div>"
      ],
      "text/plain": [
       "                                                  urls orig_author_screenname  \\\n",
       "0    https://bnn.network/world/ukraine/hamas-acknow...           SoCalBohoGal   \n",
       "42   https://globalnation.inquirer.net/221651/envoy...            EimikoPosts   \n",
       "262  https://twitter.com/i/web/status/1712955551724...          Ravinder_Pal3   \n",
       "263  https://www.change.org/p/sign-and-share-this-u...            hydroglyphz   \n",
       "264  https://www.change.org/p/sign-and-share-this-u...           ash_inthehat   \n",
       "..                                                 ...                    ...   \n",
       "23   https://globalnation.inquirer.net/221651/envoy...            EimikoPosts   \n",
       "24   https://globalnation.inquirer.net/221651/envoy...            EimikoPosts   \n",
       "25   https://globalnation.inquirer.net/221651/envoy...            EimikoPosts   \n",
       "26   https://globalnation.inquirer.net/221651/envoy...            EimikoPosts   \n",
       "1    https://bnn.network/world/ukraine/hamas-acknow...           SoCalBohoGal   \n",
       "\n",
       "         screen_name  count  \n",
       "0       AlphaMatrix7      1  \n",
       "42    GenderNulltral      1  \n",
       "262      Raj66539072      1  \n",
       "263  BigotSandwichVP      1  \n",
       "264   MishirukuJunko      1  \n",
       "..               ...    ...  \n",
       "23          BLyRor30      1  \n",
       "24          BO180214      1  \n",
       "25      BaronKain002      1  \n",
       "26         Basiljpg7      1  \n",
       "1       KatHouston65      1  \n",
       "\n",
       "[289 rows x 4 columns]"
      ]
     },
     "execution_count": 75,
     "metadata": {},
     "output_type": "execute_result"
    }
   ],
   "source": [
    "c.sort_values(['count'], ascending=False)"
   ]
  },
  {
   "cell_type": "code",
   "execution_count": 82,
   "id": "2990660b",
   "metadata": {},
   "outputs": [
    {
     "data": {
      "text/plain": [
       "array(['https://palestinesupporter.com/', 9], dtype=object)"
      ]
     },
     "execution_count": 82,
     "metadata": {},
     "output_type": "execute_result"
    }
   ],
   "source": [
    "c.groupby(['urls']).size().reset_index(name='count').sort_values(['count'], ascending=False).values[2]"
   ]
  },
  {
   "cell_type": "code",
   "execution_count": 93,
   "id": "ca958a6a",
   "metadata": {},
   "outputs": [
    {
     "data": {
      "text/html": [
       "<div>\n",
       "<style scoped>\n",
       "    .dataframe tbody tr th:only-of-type {\n",
       "        vertical-align: middle;\n",
       "    }\n",
       "\n",
       "    .dataframe tbody tr th {\n",
       "        vertical-align: top;\n",
       "    }\n",
       "\n",
       "    .dataframe thead th {\n",
       "        text-align: right;\n",
       "    }\n",
       "</style>\n",
       "<table border=\"1\" class=\"dataframe\">\n",
       "  <thead>\n",
       "    <tr style=\"text-align: right;\">\n",
       "      <th></th>\n",
       "      <th>domain</th>\n",
       "      <th>ideology</th>\n",
       "      <th>audience_var</th>\n",
       "    </tr>\n",
       "  </thead>\n",
       "  <tbody>\n",
       "    <tr>\n",
       "      <th>0</th>\n",
       "      <td>kipa.co.il</td>\n",
       "      <td>0.058429</td>\n",
       "      <td>0.000935</td>\n",
       "    </tr>\n",
       "    <tr>\n",
       "      <th>1</th>\n",
       "      <td>israelinfo.co.il</td>\n",
       "      <td>-0.061652</td>\n",
       "      <td>0.000225</td>\n",
       "    </tr>\n",
       "    <tr>\n",
       "      <th>2</th>\n",
       "      <td>fathomjournal.org</td>\n",
       "      <td>-0.005293</td>\n",
       "      <td>0.000203</td>\n",
       "    </tr>\n",
       "    <tr>\n",
       "      <th>3</th>\n",
       "      <td>ctvnews.ca</td>\n",
       "      <td>0.041252</td>\n",
       "      <td>0.001263</td>\n",
       "    </tr>\n",
       "    <tr>\n",
       "      <th>4</th>\n",
       "      <td>punchng.com</td>\n",
       "      <td>0.084410</td>\n",
       "      <td>0.001444</td>\n",
       "    </tr>\n",
       "  </tbody>\n",
       "</table>\n",
       "</div>"
      ],
      "text/plain": [
       "              domain  ideology  audience_var\n",
       "0         kipa.co.il  0.058429      0.000935\n",
       "1   israelinfo.co.il -0.061652      0.000225\n",
       "2  fathomjournal.org -0.005293      0.000203\n",
       "3         ctvnews.ca  0.041252      0.001263\n",
       "4        punchng.com  0.084410      0.001444"
      ]
     },
     "execution_count": 93,
     "metadata": {},
     "output_type": "execute_result"
    }
   ],
   "source": [
    "url_idealogies = pd.read_csv(\"~/Downloads/israel_domain_ideology.csv\")\n",
    "url_idealogies.head()"
   ]
  },
  {
   "cell_type": "code",
   "execution_count": 92,
   "id": "590d2fe4",
   "metadata": {},
   "outputs": [],
   "source": [
    "tweet_urls = c.urls.values"
   ]
  },
  {
   "cell_type": "code",
   "execution_count": 99,
   "id": "bc7b74ea",
   "metadata": {},
   "outputs": [
    {
     "name": "stdout",
     "output_type": "stream",
     "text": [
      "https://www.wral.com/story/sides-clash-as-unc-chapel-hill-protest-between-pro-palestine-pro-israel-groups-turns-heated/21093642/\n",
      "0.100177054720079\n",
      "0.0008172975715775\n",
      "wral.com\n",
      "https://www.timesofisrael.com/liveblog_entry/idf-says-assessment-shows-failed-islamic-jihad-rocket-launch-caused-gaza-hospital-blast/\n",
      "-0.0832729762871364\n",
      "0.0005804632939198\n",
      "timesofisrael.com\n",
      "https://www.timesofisrael.com/liveblog_entry/idf-says-assessment-shows-failed-islamic-jihad-rocket-launch-caused-gaza-hospital-blast/\n",
      "-0.0832729762871364\n",
      "0.0005804632939198\n",
      "timesofisrael.com\n",
      "https://www.timesofisrael.com/liveblog_entry/idf-says-assessment-shows-failed-islamic-jihad-rocket-launch-caused-gaza-hospital-blast/\n",
      "-0.0832729762871364\n",
      "0.0005804632939198\n",
      "timesofisrael.com\n",
      "https://twitter.com/i/web/status/1712955551724814342\n",
      "-0.0716370645987296\n",
      "0.0009431859979596\n",
      "twitter.com\n",
      "https://twitter.com/i/web/status/1711599957600583951\n",
      "-0.0716370645987296\n",
      "0.0009431859979596\n",
      "twitter.com\n",
      "https://rumble.com/v3ruymk-breaking-its-starting-israel-begins-gaza-ground-invasion-redacted-news.html\n",
      "-0.0577537770919395\n",
      "0.0002375601652664\n",
      "rumble.com\n"
     ]
    }
   ],
   "source": [
    "for t in tweet_urls: \n",
    "    for i, _ in enumerate(url_idealogies.domain.values): \n",
    "        if _ in t: \n",
    "            print(t)\n",
    "            print(url_idealogies.iloc[i].values[1])\n",
    "            print(url_idealogies.iloc[i].values[2])\n",
    "            print(_)"
   ]
  },
  {
   "cell_type": "code",
   "execution_count": null,
   "id": "3134175c",
   "metadata": {},
   "outputs": [],
   "source": []
  }
 ],
 "metadata": {
  "kernelspec": {
   "display_name": "Python 3 (ipykernel)",
   "language": "python",
   "name": "python3"
  },
  "language_info": {
   "codemirror_mode": {
    "name": "ipython",
    "version": 3
   },
   "file_extension": ".py",
   "mimetype": "text/x-python",
   "name": "python",
   "nbconvert_exporter": "python",
   "pygments_lexer": "ipython3",
   "version": "3.9.12"
  }
 },
 "nbformat": 4,
 "nbformat_minor": 5
}
